{
 "cells": [
  {
   "cell_type": "markdown",
   "id": "65018c2c-562b-41c8-a82a-911494d8ab71",
   "metadata": {},
   "source": [
    "# Demonstration of the Cartpole Open AI gym environment\n",
    "\n",
    "These notes are based on Dr Mike Allen's notebooks.\n",
    "\n",
    "Notes on how to use the cartpole environment.  How to pass actions and recieve observations.\n",
    "\n",
    "Before you can use this environment please install the conda virtual environment.  This will set up `gym` and `pytorch`.  The environment was built on Linux Pop! OS and not tested on Windows or Mac.\n",
    "\n",
    "```\n",
    "conda env create -f environment.yml\n",
    "```\n",
    "\n",
    "## Imports"
   ]
  },
  {
   "cell_type": "code",
   "execution_count": null,
   "id": "36fe893b-526d-4c00-924a-11349ebfbfca",
   "metadata": {},
   "outputs": [],
   "source": [
    "import gym\n",
    "import matplotlib.pyplot as plt\n",
    "\n",
    "gym.__version__"
   ]
  },
  {
   "cell_type": "markdown",
   "id": "916dbd49-4d13-4897-ac9c-cd726b002ccc",
   "metadata": {},
   "source": [
    "## Create a gym cartpole environment"
   ]
  },
  {
   "cell_type": "code",
   "execution_count": null,
   "id": "1d9c9b7d-c46e-418e-8440-0af5848d5d64",
   "metadata": {},
   "outputs": [],
   "source": [
    "env = gym.make('CartPole-v0')"
   ]
  },
  {
   "cell_type": "markdown",
   "id": "c37e415c-109c-4350-a0a1-7234b6f46828",
   "metadata": {},
   "source": [
    "## Reset the environment.\n",
    "\n",
    "Before using the environment should be reset.  This returns an intial set of observations."
   ]
  },
  {
   "cell_type": "code",
   "execution_count": null,
   "id": "a28a0649-1a9b-49bc-8483-53415b280027",
   "metadata": {},
   "outputs": [],
   "source": [
    "obs = env.reset()\n",
    "obs"
   ]
  },
  {
   "cell_type": "markdown",
   "id": "dd412aba-90b8-435b-8958-b1979750be21",
   "metadata": {},
   "source": [
    "## Example usage with a step function"
   ]
  },
  {
   "cell_type": "code",
   "execution_count": null,
   "id": "2b23e00f-f21d-4e04-9a18-9aff923f1524",
   "metadata": {},
   "outputs": [],
   "source": [
    "def step(action=1):\n",
    "    obs, reward, done, info = env.step(action)\n",
    "    \n",
    "    print(obs, reward, done, info)\n",
    "    \n",
    "    # print end of episode if terminal state \n",
    "    if done:\n",
    "        print(\"End of Run\")\n",
    "        \n",
    "    # render the cartpole environment.\n",
    "    img = plt.imshow(env.render(mode='rgb_array'));\n",
    "    "
   ]
  },
  {
   "cell_type": "code",
   "execution_count": null,
   "id": "a7a23e14-1e7e-4650-90e6-f800e2864f60",
   "metadata": {},
   "outputs": [],
   "source": [
    "step()"
   ]
  },
  {
   "cell_type": "code",
   "execution_count": null,
   "id": "8a87d4a5-b2b5-4e71-9583-6484e2188386",
   "metadata": {},
   "outputs": [],
   "source": []
  }
 ],
 "metadata": {
  "kernelspec": {
   "display_name": "Python 3 (ipykernel)",
   "language": "python",
   "name": "python3"
  },
  "language_info": {
   "codemirror_mode": {
    "name": "ipython",
    "version": 3
   },
   "file_extension": ".py",
   "mimetype": "text/x-python",
   "name": "python",
   "nbconvert_exporter": "python",
   "pygments_lexer": "ipython3",
   "version": "3.8.8"
  }
 },
 "nbformat": 4,
 "nbformat_minor": 5
}
